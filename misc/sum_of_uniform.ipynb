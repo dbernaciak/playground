{
 "cells": [
  {
   "cell_type": "markdown",
   "id": "b3668ce6-08de-4368-866d-7701523139ec",
   "metadata": {},
   "source": [
    "# Sum of uniform random variables\n",
    "What is the expected number of picks $n$ of a number $u_k$ from a uniform distribution on $[0,1]$ so that the sum $\\sum_{k=1}^n>x$?\n",
    "\n",
    "## Solution\n",
    "\n",
    "Let $N(x)=\\min\\{n: \\sum_{k=1}^n > x\\}$ and $m(x) = \\mathbb{E}[N(x)]$ for $x \\in [0,1]$.\n",
    "\n",
    "Assume $U_1 = u$ for some $u \\in [0,1]$.\n",
    "\n",
    "If $u>x$ then $N(x)=1$. If not, then $N(x) = 1 + N'(x)$, where $N'(x) = N(x-u)$.\n",
    "\n",
    "It follows that:\n",
    "$$m(x) = 1 + \\int_0^x m(x-u) du = 1 + \\int_0^x m(u)du $$,\n",
    "since we can change varibles: $x-u=t$, $-du=dt$ and for $u=0$ $t=x$ and for $u=x$ $t=0$. If we differentiate on both sides we obtain:\n",
    "$$\\frac{dm(x)}{dx}=m(x) \\Rightarrow m(x) = e^x$$"
   ]
  },
  {
   "cell_type": "code",
   "execution_count": 2,
   "id": "c8f37821-fd33-4508-bae9-2da4112def36",
   "metadata": {},
   "outputs": [],
   "source": [
    "import numpy as np"
   ]
  },
  {
   "cell_type": "code",
   "execution_count": 28,
   "id": "32c3e702-2e71-4778-8a4a-7f35e438b683",
   "metadata": {},
   "outputs": [],
   "source": [
    "x = 1\n",
    "N = 100000"
   ]
  },
  {
   "cell_type": "code",
   "execution_count": 29,
   "id": "e2e64ac5-53d7-4905-a380-8856df0c4900",
   "metadata": {},
   "outputs": [],
   "source": [
    "s = np.cumsum(np.random.uniform(size=(10,N)), axis=0)\n",
    "m_x = np.asarray([np.argmax(s[:, i] >= x) + 1 for i in range(N)]).mean()"
   ]
  },
  {
   "cell_type": "code",
   "execution_count": 30,
   "id": "9543ca3e-4faf-4440-9de7-011e24156baf",
   "metadata": {},
   "outputs": [
    {
     "name": "stdout",
     "output_type": "stream",
     "text": [
      "2.71521 2.718281828459045\n"
     ]
    }
   ],
   "source": [
    "print(m_x, np.exp(x))"
   ]
  }
 ],
 "metadata": {
  "kernelspec": {
   "display_name": "Python 3 (ipykernel)",
   "language": "python",
   "name": "python3"
  },
  "language_info": {
   "codemirror_mode": {
    "name": "ipython",
    "version": 3
   },
   "file_extension": ".py",
   "mimetype": "text/x-python",
   "name": "python",
   "nbconvert_exporter": "python",
   "pygments_lexer": "ipython3",
   "version": "3.7.3"
  }
 },
 "nbformat": 4,
 "nbformat_minor": 5
}
