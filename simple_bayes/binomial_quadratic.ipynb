{
 "cells": [
  {
   "cell_type": "markdown",
   "id": "4c40d3c1-0fe6-44b6-8229-6819bd985d29",
   "metadata": {},
   "source": [
    "# Quadratic approximation for posterior computation\n",
    "In this example we will look at the quadratic approximation for posterior computation in a coin tossing model."
   ]
  },
  {
   "cell_type": "code",
   "execution_count": 1,
   "id": "baed9113-4618-467d-9a56-3fd029319031",
   "metadata": {},
   "outputs": [],
   "source": [
    "import scipy.stats as st\n",
    "from scipy.optimize import minimize\n",
    "import numpy as np\n",
    "import matplotlib.pyplot as plt\n",
    "plt.style.use('fivethirtyeight')"
   ]
  },
  {
   "cell_type": "code",
   "execution_count": 2,
   "id": "c72bc636-0955-4ff5-9c41-9d221dc20cc9",
   "metadata": {},
   "outputs": [],
   "source": [
    "num_tails = 6\n",
    "num_trials = 9\n",
    "num_points = 20"
   ]
  },
  {
   "cell_type": "code",
   "execution_count": 3,
   "id": "ab95f9d6-c622-4da0-9211-bbc53b5de5b9",
   "metadata": {},
   "outputs": [],
   "source": [
    "prior = st.beta(1, 1)"
   ]
  },
  {
   "cell_type": "markdown",
   "id": "0546ad9e-2623-4fe4-a6dd-09f1fa1c900c",
   "metadata": {},
   "source": [
    "## Find the posterior mode, i.e., point where it posterior is max\n",
    "To do this we use scipy's minimizer. To parse it as a convex maximisation problem we take a log of the posterior. To make it a minimisation task we take a negative of it."
   ]
  },
  {
   "cell_type": "code",
   "execution_count": 4,
   "id": "d10a84e7-6e8e-4ec4-9f4f-b8a1646fcd5b",
   "metadata": {},
   "outputs": [],
   "source": [
    "def log_posterior(x, num_tails, num_trials):\n",
    "    return -np.log(st.binom.pmf(num_tails, num_trials, p=x) * prior.pdf(x))"
   ]
  },
  {
   "cell_type": "code",
   "execution_count": 5,
   "id": "3f417392-ae84-43c2-9597-d5ec4f9b3611",
   "metadata": {},
   "outputs": [
    {
     "data": {
      "text/plain": [
       "array([0.66666381])"
      ]
     },
     "execution_count": 5,
     "metadata": {},
     "output_type": "execute_result"
    }
   ],
   "source": [
    "w_0 = 0.5\n",
    "solution = minimize(log_posterior, w_0, args=(num_tails, num_trials), bounds=[(1e-7,0.9999)], method='SLSQP')\n",
    "w_map = solution.x\n",
    "w_map"
   ]
  },
  {
   "cell_type": "markdown",
   "id": "7cfeefa0-d93f-46ad-b03b-45c51ec190ce",
   "metadata": {},
   "source": [
    "### Estimate the curvature around the peak\n",
    "Since the quadratic distribution uses the Gaussian distribution we have\n",
    "$$p(x) =  {\\frac {1}{\\sigma {\\sqrt {2\\pi }}}}e^{-{\\frac {1}{2}}\\left({\\frac {x-\\mu }{\\sigma }}\\right)^{2}}$$\n",
    "If we take the -log\n",
    "$$-\\log(p(x))= \\log(\\sigma) + 0.5 \\log(2 \\pi) + \\frac{1}{2 \\sigma^2} (x−\\mu)^2$$\n",
    "$$\\frac{d^2 (-\\log(p(x)))}{d \\mu^2} = \\frac{1}{\\sigma^2}$$ \n",
    "\n",
    "To calculte this secod derivative we use the **central difference method**\n",
    "$$f''(x) = \\frac{f(x+h) - 2f(x) + f(x-h)}{ h^2}$$"
   ]
  },
  {
   "cell_type": "code",
   "execution_count": 6,
   "id": "ab6ca966-5f50-477e-b1ac-32f9dd83f252",
   "metadata": {},
   "outputs": [],
   "source": [
    "h = 0.01"
   ]
  },
  {
   "cell_type": "code",
   "execution_count": 7,
   "id": "9479f230-029d-4bfb-b95d-5233327af762",
   "metadata": {},
   "outputs": [],
   "source": [
    "std = (1 / ((log_posterior(w_map+h, num_tails, num_trials) - 2 * log_posterior(w_map, num_tails, num_trials) + log_posterior(w_map-h, num_tails, num_trials)) / h**2))**0.5"
   ]
  },
  {
   "cell_type": "code",
   "execution_count": 8,
   "id": "a8c7dbe1-4f83-4118-94d9-4869d8a06d62",
   "metadata": {},
   "outputs": [
    {
     "data": {
      "text/plain": [
       "array([0.15710899])"
      ]
     },
     "execution_count": 8,
     "metadata": {},
     "output_type": "execute_result"
    }
   ],
   "source": [
    "std"
   ]
  },
  {
   "cell_type": "markdown",
   "id": "752c6d2d-3cb1-4cdd-b482-03d54e4d5197",
   "metadata": {},
   "source": [
    "## Compare quadratic approximation with the exact result"
   ]
  },
  {
   "cell_type": "code",
   "execution_count": 9,
   "id": "aec1033c-7831-46fc-a3d4-33ff6595c396",
   "metadata": {},
   "outputs": [],
   "source": [
    "p_grid = np.linspace(0, 1, 1000)"
   ]
  },
  {
   "cell_type": "code",
   "execution_count": 10,
   "id": "02fa809b-a927-4b04-9860-4546f09115f5",
   "metadata": {},
   "outputs": [],
   "source": [
    "exact_posterior_pdf = st.beta(a = 1 + num_tails, b = num_trials - num_tails + 1).pdf(p_grid)\n",
    "approx_posterior_pdf = st.norm(w_map, std).pdf(p_grid)"
   ]
  },
  {
   "cell_type": "code",
   "execution_count": 11,
   "id": "216fc346-ad84-405a-8a7f-21d71eefd766",
   "metadata": {},
   "outputs": [
    {
     "data": {
      "image/png": "[encoded data removed]",
      "text/plain": [
       "<Figure size 432x288 with 1 Axes>"
      ]
     },
     "metadata": {
      "needs_background": "light"
     },
     "output_type": "display_data"
    }
   ],
   "source": [
    "plt.plot(p_grid, exact_posterior_pdf, label=\"exact posterior pdf\")\n",
    "plt.plot(p_grid, approx_posterior_pdf, label=\"quad approx. posterior pdf\")\n",
    "plt.legend(loc=\"upper left\")\n",
    "plt.show()"
   ]
  }
 ],
 "metadata": {
  "kernelspec": {
   "display_name": "Python 3 (ipykernel)",
   "language": "python",
   "name": "python3"
  },
  "language_info": {
   "codemirror_mode": {
    "name": "ipython",
    "version": 3
   },
   "file_extension": ".py",
   "mimetype": "text/x-python",
   "name": "python",
   "nbconvert_exporter": "python",
   "pygments_lexer": "ipython3",
   "version": "3.8.5"
  }
 },
 "nbformat": 4,
 "nbformat_minor": 5
}
